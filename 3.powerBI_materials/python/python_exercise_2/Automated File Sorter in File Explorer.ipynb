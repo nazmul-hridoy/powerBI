{
 "cells": [
  {
   "cell_type": "code",
   "execution_count": 3,
   "id": "a8b2739e",
   "metadata": {},
   "outputs": [],
   "source": [
    "import os, shutil"
   ]
  },
  {
   "cell_type": "code",
   "execution_count": 4,
   "id": "b9002add",
   "metadata": {},
   "outputs": [],
   "source": [
    "path = r\"E:/powerBI/3.alex/python/python_exercise_2/\""
   ]
  },
  {
   "cell_type": "code",
   "execution_count": 5,
   "id": "713cbf80",
   "metadata": {},
   "outputs": [],
   "source": [
    "file_name = os.listdir(path)"
   ]
  },
  {
   "cell_type": "code",
   "execution_count": 6,
   "id": "9e6f4ef4",
   "metadata": {},
   "outputs": [],
   "source": [
    "folder_names = ['excel files', 'image files', 'text files','pdf files', 'python files']\n",
    "\n",
    "for values in range(0,5):\n",
    "    if not os.path.exists(path + folder_names[values]):\n",
    "        os.makedirs(path + folder_names[values])\n",
    "\n",
    "for file in file_name:\n",
    "    if \".xlsx\" in file and not os.path.exists(path + \"excel files/\" + file):\n",
    "        shutil.move(path + file,  path + 'excel files/' + file)\n",
    "    elif \".jpg\" in file and not os.path.exists(path + \"image files/\" + file):\n",
    "        shutil.move(path + file,  path + 'image files/' + file)\n",
    "    elif \".txt\" in file and not os.path.exists(path + \"text files/\" + file):\n",
    "        shutil.move(path + file,  path + 'text files/' + file)\n",
    "    elif \".pdf\" in file and not os.path.exists(path + \"pdf files/\" + file):\n",
    "        shutil.move(path + file,  path + 'pdf files/' + file)\n",
    "    elif \".py\" in file and not os.path.exists(path + \"python files/\" + file):\n",
    "        shutil.move(path + file,  path + 'python files/' + file)"
   ]
  },
  {
   "cell_type": "code",
   "execution_count": null,
   "id": "cf9cc3a4",
   "metadata": {},
   "outputs": [],
   "source": []
  },
  {
   "cell_type": "code",
   "execution_count": null,
   "id": "3b434393",
   "metadata": {},
   "outputs": [],
   "source": []
  }
 ],
 "metadata": {
  "kernelspec": {
   "display_name": "Python 3 (ipykernel)",
   "language": "python",
   "name": "python3"
  },
  "language_info": {
   "codemirror_mode": {
    "name": "ipython",
    "version": 3
   },
   "file_extension": ".py",
   "mimetype": "text/x-python",
   "name": "python",
   "nbconvert_exporter": "python",
   "pygments_lexer": "ipython3",
   "version": "3.10.2"
  }
 },
 "nbformat": 4,
 "nbformat_minor": 5
}
